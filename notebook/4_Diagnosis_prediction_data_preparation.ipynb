{
 "cells": [
  {
   "cell_type": "code",
   "execution_count": 1,
   "id": "aefb61fb-867b-4f03-9df4-3030b143681f",
   "metadata": {},
   "outputs": [],
   "source": [
    "#This script is processing data to generate small diag ICD9 labels for the diagnosis prediction subtask. This process slightly cleans up data\n",
    "# as it removes entries without icd9 codes, reducing dataset size\n",
    "#To generate labels for other data (small proc icd9, ccs, ndc), this script must be adjusted adequately"
   ]
  },
  {
   "cell_type": "code",
   "execution_count": 17,
   "id": "e4065316-b83d-4feb-aadb-2d1cbf36783d",
   "metadata": {},
   "outputs": [
    {
     "name": "stdout",
     "output_type": "stream",
     "text": [
      "1234 100\n",
      "The resulting diagMap has 1234 entries, procMap has 100\n"
     ]
    }
   ],
   "source": [
    "import json\n",
    "import pandas as pd\n",
    "import numpy as np\n",
    "\n",
    "with open(\"../data/extended/preprocessing/ICDandCCSmappings/merged_simplified_icd_text.json\") as file:\n",
    "    icdFile = json.load(file)\n",
    "    \n",
    "diagMap = {}\n",
    "diagIdx = 0\n",
    "procMap = {}\n",
    "procIdx = 0\n",
    "\n",
    "icdFile = {key: value for key, value in sorted(icdFile.items(), key=lambda item: item[0])}\n",
    "\n",
    "for value in icdFile:\n",
    "    if value.startswith(\"D_\"):\n",
    "        diagMap[value] = diagIdx\n",
    "        diagIdx += 1\n",
    "    elif value.startswith(\"P_\"): \n",
    "        procMap[value] = procIdx\n",
    "        procIdx += 1      \n",
    "\n",
    "print(\"The resulting diagMap has 1234 entries, procMap has 100\")\n",
    "        \n",
    "with open(\"../data/extended_folds/preprocessing/smallICDdiagMapping.json\", \"w\") as file:    \n",
    "    json.dump(diagMap, file)\n",
    "    \n",
    "with open(\"../data/extended_folds/preprocessing/smallICDprocMapping.json\", \"w\") as file:    \n",
    "    json.dump(procMap, file)\n",
    "    "
   ]
  },
  {
   "cell_type": "code",
   "execution_count": 18,
   "id": "6c2ff9a1-3278-451c-9533-89e7327066d8",
   "metadata": {},
   "outputs": [],
   "source": [
    "def processString(string, charsToRemove):\n",
    "    for char in charsToRemove: string = string.replace(char, \"\")\n",
    "    return string"
   ]
  },
  {
   "cell_type": "code",
   "execution_count": 20,
   "id": "997c588d-b59a-4c7a-b8af-20062329036e",
   "metadata": {},
   "outputs": [
    {
     "name": "stdout",
     "output_type": "stream",
     "text": [
      "Fold Number 0:\n",
      "\n",
      "Fold Number 1:\n",
      "\n",
      "Fold Number 2:\n",
      "\n",
      "Fold Number 3:\n",
      "\n",
      "Fold Number 4:\n",
      "\n",
      "Fold Number 5:\n",
      "\n",
      "Fold Number 6:\n",
      "\n",
      "Fold Number 7:\n",
      "\n",
      "Fold Number 8:\n",
      "\n",
      "Fold Number 9:\n",
      "\n"
     ]
    }
   ],
   "source": [
    "# GENERATING LABELS FOR SMALL DIAG ICD9\n",
    "cvFolds = 10\n",
    "numIcdCodes = len(diagMap)\n",
    "\n",
    "for i in range(cvFolds):\n",
    "    print(\"Fold Number {}:\\n\".format(i))\n",
    "    filename = '/clinicalBERT/data/extended_folds/discharge_subjectsplit/fold' + str(i)\n",
    "    taskname = '_codeprediction'\n",
    "    # extension = '_notext.csv'\n",
    "    extension = '_text.csv'\n",
    "    foldDf = pd.read_csv(filename+extension).drop([\"Unnamed: 0\"], axis=1) \n",
    "    cleanFoldDf = foldDf[foldDf['NEXT_SMALL_DIAG_ICD9'].notna()].reset_index(drop=True)\n",
    "    #Adding new column for label\n",
    "    cleanFoldDf['LABEL_NEXT_SMALL_DIAG_ICD9'] = np.nan\n",
    "    cleanFoldDf['LABEL_NEXT_SMALL_DIAG_ICD9'] = cleanFoldDf['LABEL_NEXT_SMALL_DIAG_ICD9'].astype(object)\n",
    "    \n",
    "    for index in cleanFoldDf.index:\n",
    "        labels = np.zeros(numIcdCodes, dtype=np.int)\n",
    "        icd9Codes = [x for x in processString(cleanFoldDf.loc[index, 'NEXT_SMALL_DIAG_ICD9'], charsToRemove = \"[]\\' \").split(',')]\n",
    "        for code in icd9Codes:\n",
    "            # print(code, diagMap[code])\n",
    "            labelIndex = diagMap[code]\n",
    "            labels[labelIndex] = 1\n",
    "        cleanFoldDf.at[index, 'LABEL_NEXT_SMALL_DIAG_ICD9'] = list(labels)\n",
    "    cleanFoldDf.to_csv(filename+taskname+extension)   "
   ]
  },
  {
   "cell_type": "code",
   "execution_count": 17,
   "id": "f4216cfc-c6ce-4bfe-b28b-ec764de5203e",
   "metadata": {},
   "outputs": [
    {
     "name": "stdout",
     "output_type": "stream",
     "text": [
      "   SUBJECT_ID   HADM_ID  Label      fake_scores\n",
      "0       177.0  196896.0    0.0  [1, 2, 1, 1, 1]\n",
      "1       198.0  131286.0    0.0  [0, 2, 1, 0, 0]\n",
      "2       198.0  131286.0    0.0  [0, 2, 2, 2, 0]\n",
      "3       198.0  131286.0    0.0  [2, 1, 0, 2, 1]\n",
      "4       198.0  131286.0    0.0  [1, 1, 1, 2, 2]\n",
      "5       199.0  185360.0    0.0  [1, 1, 1, 0, 0]\n",
      "          numNotes         maxScore         sumScore\n",
      "HADM_ID                                             \n",
      "131286.0       4.0  [2, 2, 2, 2, 2]  [3, 6, 4, 6, 3]\n",
      "185360.0       1.0  [1, 1, 1, 0, 0]  [1, 1, 1, 0, 0]\n",
      "196896.0       1.0  [1, 2, 1, 1, 1]  [1, 2, 1, 1, 1]\n",
      "HADM_ID\n",
      "131286.0    [1.1666666666666667, 1.6666666666666667, 1.333...\n",
      "185360.0                            [1.0, 1.0, 1.0, 0.0, 0.0]\n",
      "196896.0                            [1.0, 2.0, 1.0, 1.0, 1.0]\n",
      "dtype: object\n",
      "HADM_ID\n",
      "131286.0    [1.5, 3.0, 2.0, 3.0, 1.5]\n",
      "185360.0    [0.5, 0.5, 0.5, 0.0, 0.0]\n",
      "196896.0    [0.5, 1.0, 0.5, 0.5, 0.5]\n",
      "Name: sumScore, dtype: object\n",
      "HADM_ID\n",
      "131286.0    [3.5, 5.0, 4.0, 5.0, 3.5]\n",
      "185360.0    [1.5, 1.5, 1.5, 0.0, 0.0]\n",
      "196896.0    [1.5, 3.0, 1.5, 1.5, 1.5]\n",
      "dtype: object\n",
      "HADM_ID\n",
      "131286.0    3.0\n",
      "185360.0    1.5\n",
      "196896.0    1.5\n",
      "Name: numNotes, dtype: float64\n"
     ]
    }
   ],
   "source": [
    "import pandas as pd\n",
    "import numpy as np\n",
    "import torch\n",
    "\n",
    "scalingFactor = 2\n",
    "foldDf = pd.read_csv('fold0_codeprediction_text.csv')#.drop([\"Unnamed: 0\", \"ADMITTIME\"], axis=1) \n",
    "subDf = foldDf[[\"SUBJECT_ID\",\"HADM_ID\",\"Label\"]]\n",
    "subDf = subDf.iloc[0:6, :]\n",
    "\n",
    "fake_scores = []\n",
    "for i in range(6):\n",
    "    fake_scores.append(np.random.randint(low=3, size=5))\n",
    "\n",
    "subDf[\"fake_scores\"] = fake_scores\n",
    "print(subDf)\n",
    "newDf = subDf.groupby(['HADM_ID']).agg(\n",
    "    numNotes=('HADM_ID', lambda x: len(x)),\n",
    "    maxScore=('fake_scores', lambda x: np.vstack(x).max(axis=0).tolist()),\n",
    "    sumScore=('fake_scores', lambda x: np.vstack(x).sum(axis=0).tolist()))\n",
    "\n",
    "newDf['maxScore'] = newDf['maxScore'].apply(np.array)\n",
    "newDf['sumScore'] = newDf['sumScore'].apply(np.array)\n",
    "\n",
    "yPredScores = (newDf['maxScore'] + newDf['sumScore'] / scalingFactor) / (1 + newDf['numNotes'] / scalingFactor)\n",
    "        # temp = (df_sort.groupby(['HADM_ID'])['pred_score'].agg(max) + df_sort.groupby(['HADM_ID'])['pred_score'].agg(sum)/\n",
    "        #         scaling_factor)/(1+df_sort.groupby(['HADM_ID'])['pred_score'].agg(len)/scaling_factor)\n",
    "print(newDf)\n",
    "print(yPredScores)\n",
    "\n",
    "print(newDf['sumScore'] / scalingFactor)\n",
    "print(newDf['maxScore'] + newDf['sumScore'] / scalingFactor)\n",
    "print(1 + newDf['numNotes'] / scalingFactor)\n"
   ]
  },
  {
   "cell_type": "code",
   "execution_count": 16,
   "id": "953166b4-205c-4922-af1c-0412dc0f8a85",
   "metadata": {},
   "outputs": [
    {
     "name": "stdout",
     "output_type": "stream",
     "text": [
      "(0.6666666666666666, 0.875, 0.7416666666666667, None)\n",
      "(0.625, 0.8333333333333334, 0.7142857142857143, None)\n"
     ]
    }
   ],
   "source": [
    "from torchmetrics.functional import precision_recall\n",
    "preds  = [np.array([0, 0, 1, 1]), np.array([1, 1, 0, 1]), np.array([0,1,1,1])]\n",
    "target = [np.array([0, 0, 1, 1]), np.array([1, 1, 1, 1]), np.array([0,0,0,0])]\n",
    "\n",
    "# print(precision_recall(preds, target, average='macro', mdmc_average='global', num_classes=4))\n",
    "# print(precision_recall(preds, target, average='micro', mdmc_average='global', num_classes=4))\n",
    "\n",
    "from sklearn.metrics import precision_recall_fscore_support\n",
    "\n",
    "print(precision_recall_fscore_support(target, preds, average='macro'))\n",
    "print(precision_recall_fscore_support(target, preds, average='micro'))\n",
    "\n",
    "# #Precision tp/(tp+fp)\n",
    "# #Recall tp/(tp+fn)\n",
    "# # 'micro':\n",
    "# # Calculate metrics globally by counting the total true positives, false negatives and false positives.\n",
    "\n",
    "# # 'macro':\n",
    "# # Calculate metrics for each label, and find their unweighted mean. This does not take label imbalance into account.\n",
    "\n",
    "# micro: tp - 5, fp - 4, fn - 1\n",
    "# p = 5/(5+4)\n",
    "# r = 5/(5+1)\n",
    "\n"
   ]
  },
  {
   "cell_type": "code",
   "execution_count": 6,
   "id": "a5675b0a-5fcb-4671-8d45-3e0a8f01b2fb",
   "metadata": {},
   "outputs": [
    {
     "name": "stdout",
     "output_type": "stream",
     "text": [
      "[False False  True  True]\n",
      "[ True  True False  True]\n",
      "[False  True  True  True]\n"
     ]
    }
   ],
   "source": [
    "preds  = [np.array([0, 0, 1, 1]), np.array([1, 1, 0, 1]), np.array([0,1,1,1])]\n",
    "for entry in preds:\n",
    "    print(entry.flatten()>=1)"
   ]
  },
  {
   "cell_type": "code",
   "execution_count": null,
   "id": "35a41134-b83c-4a36-a16b-c2030f418f4a",
   "metadata": {},
   "outputs": [],
   "source": []
  }
 ],
 "metadata": {
  "kernelspec": {
   "display_name": "Python 3 (ipykernel)",
   "language": "python",
   "name": "python3"
  },
  "language_info": {
   "codemirror_mode": {
    "name": "ipython",
    "version": 3
   },
   "file_extension": ".py",
   "mimetype": "text/x-python",
   "name": "python",
   "nbconvert_exporter": "python",
   "pygments_lexer": "ipython3",
   "version": "3.7.10"
  }
 },
 "nbformat": 4,
 "nbformat_minor": 5
}
